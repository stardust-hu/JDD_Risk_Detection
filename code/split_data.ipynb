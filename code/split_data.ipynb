{
 "cells": [
  {
   "cell_type": "code",
   "execution_count": 4,
   "metadata": {
    "collapsed": true
   },
   "outputs": [],
   "source": [
    "import pandas as pd"
   ]
  },
  {
   "cell_type": "code",
   "execution_count": 13,
   "metadata": {},
   "outputs": [],
   "source": [
    "t_log = pd.read_csv('../data/raw/t_login.csv')\n",
    "t_log.time = pd.to_datetime(t_log.time)"
   ]
  },
  {
   "cell_type": "code",
   "execution_count": 14,
   "metadata": {},
   "outputs": [
    {
     "data": {
      "text/html": [
       "<div>\n",
       "<table border=\"1\" class=\"dataframe\">\n",
       "  <thead>\n",
       "    <tr style=\"text-align: right;\">\n",
       "      <th></th>\n",
       "      <th>log_id</th>\n",
       "      <th>timelong</th>\n",
       "      <th>device</th>\n",
       "      <th>log_from</th>\n",
       "      <th>ip</th>\n",
       "      <th>city</th>\n",
       "      <th>result</th>\n",
       "      <th>timestamp</th>\n",
       "      <th>type</th>\n",
       "      <th>id</th>\n",
       "      <th>is_scan</th>\n",
       "      <th>is_sec</th>\n",
       "      <th>time</th>\n",
       "    </tr>\n",
       "  </thead>\n",
       "  <tbody>\n",
       "    <tr>\n",
       "      <th>0</th>\n",
       "      <td>2.618369e+15</td>\n",
       "      <td>5.0</td>\n",
       "      <td>879361</td>\n",
       "      <td>10</td>\n",
       "      <td>1026491</td>\n",
       "      <td>194</td>\n",
       "      <td>1</td>\n",
       "      <td>1.428642e+09</td>\n",
       "      <td>1</td>\n",
       "      <td>116825</td>\n",
       "      <td>True</td>\n",
       "      <td>False</td>\n",
       "      <td>2015-04-10 12:54:19</td>\n",
       "    </tr>\n",
       "    <tr>\n",
       "      <th>1</th>\n",
       "      <td>9.969739e+14</td>\n",
       "      <td>16124.0</td>\n",
       "      <td>835072</td>\n",
       "      <td>1</td>\n",
       "      <td>1026491</td>\n",
       "      <td>194</td>\n",
       "      <td>1</td>\n",
       "      <td>1.428809e+09</td>\n",
       "      <td>1</td>\n",
       "      <td>109987</td>\n",
       "      <td>False</td>\n",
       "      <td>False</td>\n",
       "      <td>2015-04-12 11:20:45</td>\n",
       "    </tr>\n",
       "    <tr>\n",
       "      <th>2</th>\n",
       "      <td>8.123343e+15</td>\n",
       "      <td>5.0</td>\n",
       "      <td>879361</td>\n",
       "      <td>10</td>\n",
       "      <td>1026491</td>\n",
       "      <td>194</td>\n",
       "      <td>1</td>\n",
       "      <td>1.427705e+09</td>\n",
       "      <td>1</td>\n",
       "      <td>116825</td>\n",
       "      <td>True</td>\n",
       "      <td>False</td>\n",
       "      <td>2015-03-30 16:38:20</td>\n",
       "    </tr>\n",
       "    <tr>\n",
       "      <th>3</th>\n",
       "      <td>3.265677e+14</td>\n",
       "      <td>6.0</td>\n",
       "      <td>879361</td>\n",
       "      <td>10</td>\n",
       "      <td>1026491</td>\n",
       "      <td>194</td>\n",
       "      <td>1</td>\n",
       "      <td>1.428309e+09</td>\n",
       "      <td>1</td>\n",
       "      <td>116825</td>\n",
       "      <td>True</td>\n",
       "      <td>False</td>\n",
       "      <td>2015-04-06 16:22:18</td>\n",
       "    </tr>\n",
       "    <tr>\n",
       "      <th>4</th>\n",
       "      <td>6.684659e+15</td>\n",
       "      <td>4.0</td>\n",
       "      <td>879361</td>\n",
       "      <td>10</td>\n",
       "      <td>1026491</td>\n",
       "      <td>194</td>\n",
       "      <td>1</td>\n",
       "      <td>1.428221e+09</td>\n",
       "      <td>1</td>\n",
       "      <td>116825</td>\n",
       "      <td>True</td>\n",
       "      <td>False</td>\n",
       "      <td>2015-04-05 15:55:01</td>\n",
       "    </tr>\n",
       "  </tbody>\n",
       "</table>\n",
       "</div>"
      ],
      "text/plain": [
       "         log_id  timelong  device  log_from       ip  city  result  \\\n",
       "0  2.618369e+15       5.0  879361        10  1026491   194       1   \n",
       "1  9.969739e+14   16124.0  835072         1  1026491   194       1   \n",
       "2  8.123343e+15       5.0  879361        10  1026491   194       1   \n",
       "3  3.265677e+14       6.0  879361        10  1026491   194       1   \n",
       "4  6.684659e+15       4.0  879361        10  1026491   194       1   \n",
       "\n",
       "      timestamp  type      id is_scan is_sec                time  \n",
       "0  1.428642e+09     1  116825    True  False 2015-04-10 12:54:19  \n",
       "1  1.428809e+09     1  109987   False  False 2015-04-12 11:20:45  \n",
       "2  1.427705e+09     1  116825    True  False 2015-03-30 16:38:20  \n",
       "3  1.428309e+09     1  116825    True  False 2015-04-06 16:22:18  \n",
       "4  1.428221e+09     1  116825    True  False 2015-04-05 15:55:01  "
      ]
     },
     "execution_count": 14,
     "metadata": {},
     "output_type": "execute_result"
    }
   ],
   "source": [
    "t_log.head()"
   ]
  },
  {
   "cell_type": "code",
   "execution_count": 15,
   "metadata": {
    "collapsed": true
   },
   "outputs": [],
   "source": [
    "t_trade = pd.read_csv('../data/raw/t_trade.csv')\n",
    "t_trade.time = pd.to_datetime(t_trade.time)"
   ]
  },
  {
   "cell_type": "code",
   "execution_count": 16,
   "metadata": {},
   "outputs": [
    {
     "data": {
      "text/html": [
       "<div>\n",
       "<table border=\"1\" class=\"dataframe\">\n",
       "  <thead>\n",
       "    <tr style=\"text-align: right;\">\n",
       "      <th></th>\n",
       "      <th>rowkey</th>\n",
       "      <th>time</th>\n",
       "      <th>id</th>\n",
       "      <th>is_risk</th>\n",
       "    </tr>\n",
       "  </thead>\n",
       "  <tbody>\n",
       "    <tr>\n",
       "      <th>0</th>\n",
       "      <td>3</td>\n",
       "      <td>2015-01-01 00:00:41</td>\n",
       "      <td>27863</td>\n",
       "      <td>0</td>\n",
       "    </tr>\n",
       "    <tr>\n",
       "      <th>1</th>\n",
       "      <td>6</td>\n",
       "      <td>2015-01-01 00:00:46</td>\n",
       "      <td>115201</td>\n",
       "      <td>0</td>\n",
       "    </tr>\n",
       "    <tr>\n",
       "      <th>2</th>\n",
       "      <td>13</td>\n",
       "      <td>2015-01-01 00:01:02</td>\n",
       "      <td>143711</td>\n",
       "      <td>0</td>\n",
       "    </tr>\n",
       "    <tr>\n",
       "      <th>3</th>\n",
       "      <td>32</td>\n",
       "      <td>2015-01-01 00:03:00</td>\n",
       "      <td>172699</td>\n",
       "      <td>0</td>\n",
       "    </tr>\n",
       "    <tr>\n",
       "      <th>4</th>\n",
       "      <td>43</td>\n",
       "      <td>2015-01-01 00:03:52</td>\n",
       "      <td>53265</td>\n",
       "      <td>0</td>\n",
       "    </tr>\n",
       "  </tbody>\n",
       "</table>\n",
       "</div>"
      ],
      "text/plain": [
       "   rowkey                time      id  is_risk\n",
       "0       3 2015-01-01 00:00:41   27863        0\n",
       "1       6 2015-01-01 00:00:46  115201        0\n",
       "2      13 2015-01-01 00:01:02  143711        0\n",
       "3      32 2015-01-01 00:03:00  172699        0\n",
       "4      43 2015-01-01 00:03:52   53265        0"
      ]
     },
     "execution_count": 16,
     "metadata": {},
     "output_type": "execute_result"
    }
   ],
   "source": [
    "t_trade.head()"
   ]
  },
  {
   "cell_type": "code",
   "execution_count": 19,
   "metadata": {},
   "outputs": [
    {
     "name": "stdout",
     "output_type": "stream",
     "text": [
      "2015-06-30 23:59:57\n",
      "2015-01-01 00:00:15\n"
     ]
    }
   ],
   "source": [
    "print t_log.time.max()\n",
    "print t_log.time.min()"
   ]
  },
  {
   "cell_type": "code",
   "execution_count": 20,
   "metadata": {},
   "outputs": [
    {
     "name": "stdout",
     "output_type": "stream",
     "text": [
      "2015-06-30 23:56:39\n",
      "2015-01-01 00:00:40\n"
     ]
    }
   ],
   "source": [
    "print t_trade.time.max()\n",
    "print t_trade.time.min()"
   ]
  },
  {
   "cell_type": "code",
   "execution_count": 27,
   "metadata": {},
   "outputs": [],
   "source": [
    "t_log_train = t_log[('2015-01-01 00:00:00' <= t_log.time) & (t_log.time < '2015-06-01 00:00:00')]\n",
    "t_trade_train = t_trade[('2015-01-01 00:00:00' <= t_trade.time) & (t_trade.time < '2015-06-01 00:00:00')]"
   ]
  },
  {
   "cell_type": "code",
   "execution_count": 32,
   "metadata": {},
   "outputs": [
    {
     "name": "stdout",
     "output_type": "stream",
     "text": [
      "2015-05-31 23:59:56\n",
      "2015-05-31 23:59:53\n",
      "2015-01-01 00:00:15\n",
      "2015-01-01 00:00:40\n"
     ]
    }
   ],
   "source": [
    "print t_log_train.time.max()\n",
    "print t_trade_train.time.max()\n",
    "\n",
    "print t_log_train.time.min()\n",
    "print t_trade_train.time.min()"
   ]
  },
  {
   "cell_type": "code",
   "execution_count": 29,
   "metadata": {
    "collapsed": true
   },
   "outputs": [],
   "source": [
    "t_log_validation  = t_log['2015-06-01 00:00:00' <= t_log.time]\n",
    "t_trade_validation  = t_trade['2015-06-01 00:00:00' <= t_trade.time]"
   ]
  },
  {
   "cell_type": "code",
   "execution_count": 31,
   "metadata": {},
   "outputs": [
    {
     "name": "stdout",
     "output_type": "stream",
     "text": [
      "2015-06-30 23:59:57\n",
      "2015-06-30 23:56:39\n",
      "2015-06-01 00:00:01\n",
      "2015-06-01 00:00:47\n"
     ]
    }
   ],
   "source": [
    "print t_log_validation.time.max()\n",
    "print t_trade_validation.time.max()\n",
    "\n",
    "print t_log_validation.time.min()\n",
    "print t_trade_validation.time.min()"
   ]
  },
  {
   "cell_type": "code",
   "execution_count": 33,
   "metadata": {
    "collapsed": true
   },
   "outputs": [],
   "source": [
    "t_log_train.to_csv('../data/train/t_log_train.csv', index=None)\n",
    "t_trade_train.to_csv('../data/train/t_trade_train.csv', index=None)\n",
    "\n",
    "t_log_validation.to_csv('../data/train/t_log_validation.csv', index=None)\n",
    "t_trade_validation.to_csv('../data/train/t_trade_validation.csv', index=None)"
   ]
  },
  {
   "cell_type": "code",
   "execution_count": null,
   "metadata": {
    "collapsed": true
   },
   "outputs": [],
   "source": []
  }
 ],
 "metadata": {
  "anaconda-cloud": {},
  "kernelspec": {
   "display_name": "Python [conda env:xgboost]",
   "language": "python",
   "name": "conda-env-xgboost-py"
  },
  "language_info": {
   "codemirror_mode": {
    "name": "ipython",
    "version": 2
   },
   "file_extension": ".py",
   "mimetype": "text/x-python",
   "name": "python",
   "nbconvert_exporter": "python",
   "pygments_lexer": "ipython2",
   "version": "2.7.12"
  }
 },
 "nbformat": 4,
 "nbformat_minor": 2
}
